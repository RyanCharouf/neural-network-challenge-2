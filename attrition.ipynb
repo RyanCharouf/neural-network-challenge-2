{
  "cells": [
    {
      "cell_type": "markdown",
      "metadata": {
        "id": "view-in-github",
        "colab_type": "text"
      },
      "source": [
        "<a href=\"https://colab.research.google.com/github/RyanCharouf/neural-network-challenge-2/blob/main/attrition.ipynb\" target=\"_parent\"><img src=\"https://colab.research.google.com/assets/colab-badge.svg\" alt=\"Open In Colab\"/></a>"
      ]
    },
    {
      "cell_type": "markdown",
      "metadata": {
        "id": "alIIEHibGc3M"
      },
      "source": [
        "## Part 1: Preprocessing"
      ]
    },
    {
      "cell_type": "code",
      "execution_count": 3,
      "metadata": {
        "colab": {
          "base_uri": "https://localhost:8080/",
          "height": 325
        },
        "id": "6eDUJ4NtGc3P",
        "outputId": "b50318e5-2903-4704-96b9-83ce3c0c15f8"
      },
      "outputs": [
        {
          "output_type": "execute_result",
          "data": {
            "text/plain": [
              "   Age Attrition     BusinessTravel              Department  DistanceFromHome  \\\n",
              "0   41       Yes      Travel_Rarely                   Sales                 1   \n",
              "1   49        No  Travel_Frequently  Research & Development                 8   \n",
              "2   37       Yes      Travel_Rarely  Research & Development                 2   \n",
              "3   33        No  Travel_Frequently  Research & Development                 3   \n",
              "4   27        No      Travel_Rarely  Research & Development                 2   \n",
              "\n",
              "   Education EducationField  EnvironmentSatisfaction  HourlyRate  \\\n",
              "0          2  Life Sciences                        2          94   \n",
              "1          1  Life Sciences                        3          61   \n",
              "2          2          Other                        4          92   \n",
              "3          4  Life Sciences                        4          56   \n",
              "4          1        Medical                        1          40   \n",
              "\n",
              "   JobInvolvement  ...  PerformanceRating RelationshipSatisfaction  \\\n",
              "0               3  ...                  3                        1   \n",
              "1               2  ...                  4                        4   \n",
              "2               2  ...                  3                        2   \n",
              "3               3  ...                  3                        3   \n",
              "4               3  ...                  3                        4   \n",
              "\n",
              "   StockOptionLevel TotalWorkingYears  TrainingTimesLastYear WorkLifeBalance  \\\n",
              "0                 0                 8                      0               1   \n",
              "1                 1                10                      3               3   \n",
              "2                 0                 7                      3               3   \n",
              "3                 0                 8                      3               3   \n",
              "4                 1                 6                      3               3   \n",
              "\n",
              "   YearsAtCompany  YearsInCurrentRole  YearsSinceLastPromotion  \\\n",
              "0               6                   4                        0   \n",
              "1              10                   7                        1   \n",
              "2               0                   0                        0   \n",
              "3               8                   7                        3   \n",
              "4               2                   2                        2   \n",
              "\n",
              "   YearsWithCurrManager  \n",
              "0                     5  \n",
              "1                     7  \n",
              "2                     0  \n",
              "3                     0  \n",
              "4                     2  \n",
              "\n",
              "[5 rows x 27 columns]"
            ],
            "text/html": [
              "\n",
              "  <div id=\"df-0da14785-4dd8-4620-a238-f7455d3faa7e\" class=\"colab-df-container\">\n",
              "    <div>\n",
              "<style scoped>\n",
              "    .dataframe tbody tr th:only-of-type {\n",
              "        vertical-align: middle;\n",
              "    }\n",
              "\n",
              "    .dataframe tbody tr th {\n",
              "        vertical-align: top;\n",
              "    }\n",
              "\n",
              "    .dataframe thead th {\n",
              "        text-align: right;\n",
              "    }\n",
              "</style>\n",
              "<table border=\"1\" class=\"dataframe\">\n",
              "  <thead>\n",
              "    <tr style=\"text-align: right;\">\n",
              "      <th></th>\n",
              "      <th>Age</th>\n",
              "      <th>Attrition</th>\n",
              "      <th>BusinessTravel</th>\n",
              "      <th>Department</th>\n",
              "      <th>DistanceFromHome</th>\n",
              "      <th>Education</th>\n",
              "      <th>EducationField</th>\n",
              "      <th>EnvironmentSatisfaction</th>\n",
              "      <th>HourlyRate</th>\n",
              "      <th>JobInvolvement</th>\n",
              "      <th>...</th>\n",
              "      <th>PerformanceRating</th>\n",
              "      <th>RelationshipSatisfaction</th>\n",
              "      <th>StockOptionLevel</th>\n",
              "      <th>TotalWorkingYears</th>\n",
              "      <th>TrainingTimesLastYear</th>\n",
              "      <th>WorkLifeBalance</th>\n",
              "      <th>YearsAtCompany</th>\n",
              "      <th>YearsInCurrentRole</th>\n",
              "      <th>YearsSinceLastPromotion</th>\n",
              "      <th>YearsWithCurrManager</th>\n",
              "    </tr>\n",
              "  </thead>\n",
              "  <tbody>\n",
              "    <tr>\n",
              "      <th>0</th>\n",
              "      <td>41</td>\n",
              "      <td>Yes</td>\n",
              "      <td>Travel_Rarely</td>\n",
              "      <td>Sales</td>\n",
              "      <td>1</td>\n",
              "      <td>2</td>\n",
              "      <td>Life Sciences</td>\n",
              "      <td>2</td>\n",
              "      <td>94</td>\n",
              "      <td>3</td>\n",
              "      <td>...</td>\n",
              "      <td>3</td>\n",
              "      <td>1</td>\n",
              "      <td>0</td>\n",
              "      <td>8</td>\n",
              "      <td>0</td>\n",
              "      <td>1</td>\n",
              "      <td>6</td>\n",
              "      <td>4</td>\n",
              "      <td>0</td>\n",
              "      <td>5</td>\n",
              "    </tr>\n",
              "    <tr>\n",
              "      <th>1</th>\n",
              "      <td>49</td>\n",
              "      <td>No</td>\n",
              "      <td>Travel_Frequently</td>\n",
              "      <td>Research &amp; Development</td>\n",
              "      <td>8</td>\n",
              "      <td>1</td>\n",
              "      <td>Life Sciences</td>\n",
              "      <td>3</td>\n",
              "      <td>61</td>\n",
              "      <td>2</td>\n",
              "      <td>...</td>\n",
              "      <td>4</td>\n",
              "      <td>4</td>\n",
              "      <td>1</td>\n",
              "      <td>10</td>\n",
              "      <td>3</td>\n",
              "      <td>3</td>\n",
              "      <td>10</td>\n",
              "      <td>7</td>\n",
              "      <td>1</td>\n",
              "      <td>7</td>\n",
              "    </tr>\n",
              "    <tr>\n",
              "      <th>2</th>\n",
              "      <td>37</td>\n",
              "      <td>Yes</td>\n",
              "      <td>Travel_Rarely</td>\n",
              "      <td>Research &amp; Development</td>\n",
              "      <td>2</td>\n",
              "      <td>2</td>\n",
              "      <td>Other</td>\n",
              "      <td>4</td>\n",
              "      <td>92</td>\n",
              "      <td>2</td>\n",
              "      <td>...</td>\n",
              "      <td>3</td>\n",
              "      <td>2</td>\n",
              "      <td>0</td>\n",
              "      <td>7</td>\n",
              "      <td>3</td>\n",
              "      <td>3</td>\n",
              "      <td>0</td>\n",
              "      <td>0</td>\n",
              "      <td>0</td>\n",
              "      <td>0</td>\n",
              "    </tr>\n",
              "    <tr>\n",
              "      <th>3</th>\n",
              "      <td>33</td>\n",
              "      <td>No</td>\n",
              "      <td>Travel_Frequently</td>\n",
              "      <td>Research &amp; Development</td>\n",
              "      <td>3</td>\n",
              "      <td>4</td>\n",
              "      <td>Life Sciences</td>\n",
              "      <td>4</td>\n",
              "      <td>56</td>\n",
              "      <td>3</td>\n",
              "      <td>...</td>\n",
              "      <td>3</td>\n",
              "      <td>3</td>\n",
              "      <td>0</td>\n",
              "      <td>8</td>\n",
              "      <td>3</td>\n",
              "      <td>3</td>\n",
              "      <td>8</td>\n",
              "      <td>7</td>\n",
              "      <td>3</td>\n",
              "      <td>0</td>\n",
              "    </tr>\n",
              "    <tr>\n",
              "      <th>4</th>\n",
              "      <td>27</td>\n",
              "      <td>No</td>\n",
              "      <td>Travel_Rarely</td>\n",
              "      <td>Research &amp; Development</td>\n",
              "      <td>2</td>\n",
              "      <td>1</td>\n",
              "      <td>Medical</td>\n",
              "      <td>1</td>\n",
              "      <td>40</td>\n",
              "      <td>3</td>\n",
              "      <td>...</td>\n",
              "      <td>3</td>\n",
              "      <td>4</td>\n",
              "      <td>1</td>\n",
              "      <td>6</td>\n",
              "      <td>3</td>\n",
              "      <td>3</td>\n",
              "      <td>2</td>\n",
              "      <td>2</td>\n",
              "      <td>2</td>\n",
              "      <td>2</td>\n",
              "    </tr>\n",
              "  </tbody>\n",
              "</table>\n",
              "<p>5 rows × 27 columns</p>\n",
              "</div>\n",
              "    <div class=\"colab-df-buttons\">\n",
              "\n",
              "  <div class=\"colab-df-container\">\n",
              "    <button class=\"colab-df-convert\" onclick=\"convertToInteractive('df-0da14785-4dd8-4620-a238-f7455d3faa7e')\"\n",
              "            title=\"Convert this dataframe to an interactive table.\"\n",
              "            style=\"display:none;\">\n",
              "\n",
              "  <svg xmlns=\"http://www.w3.org/2000/svg\" height=\"24px\" viewBox=\"0 -960 960 960\">\n",
              "    <path d=\"M120-120v-720h720v720H120Zm60-500h600v-160H180v160Zm220 220h160v-160H400v160Zm0 220h160v-160H400v160ZM180-400h160v-160H180v160Zm440 0h160v-160H620v160ZM180-180h160v-160H180v160Zm440 0h160v-160H620v160Z\"/>\n",
              "  </svg>\n",
              "    </button>\n",
              "\n",
              "  <style>\n",
              "    .colab-df-container {\n",
              "      display:flex;\n",
              "      gap: 12px;\n",
              "    }\n",
              "\n",
              "    .colab-df-convert {\n",
              "      background-color: #E8F0FE;\n",
              "      border: none;\n",
              "      border-radius: 50%;\n",
              "      cursor: pointer;\n",
              "      display: none;\n",
              "      fill: #1967D2;\n",
              "      height: 32px;\n",
              "      padding: 0 0 0 0;\n",
              "      width: 32px;\n",
              "    }\n",
              "\n",
              "    .colab-df-convert:hover {\n",
              "      background-color: #E2EBFA;\n",
              "      box-shadow: 0px 1px 2px rgba(60, 64, 67, 0.3), 0px 1px 3px 1px rgba(60, 64, 67, 0.15);\n",
              "      fill: #174EA6;\n",
              "    }\n",
              "\n",
              "    .colab-df-buttons div {\n",
              "      margin-bottom: 4px;\n",
              "    }\n",
              "\n",
              "    [theme=dark] .colab-df-convert {\n",
              "      background-color: #3B4455;\n",
              "      fill: #D2E3FC;\n",
              "    }\n",
              "\n",
              "    [theme=dark] .colab-df-convert:hover {\n",
              "      background-color: #434B5C;\n",
              "      box-shadow: 0px 1px 3px 1px rgba(0, 0, 0, 0.15);\n",
              "      filter: drop-shadow(0px 1px 2px rgba(0, 0, 0, 0.3));\n",
              "      fill: #FFFFFF;\n",
              "    }\n",
              "  </style>\n",
              "\n",
              "    <script>\n",
              "      const buttonEl =\n",
              "        document.querySelector('#df-0da14785-4dd8-4620-a238-f7455d3faa7e button.colab-df-convert');\n",
              "      buttonEl.style.display =\n",
              "        google.colab.kernel.accessAllowed ? 'block' : 'none';\n",
              "\n",
              "      async function convertToInteractive(key) {\n",
              "        const element = document.querySelector('#df-0da14785-4dd8-4620-a238-f7455d3faa7e');\n",
              "        const dataTable =\n",
              "          await google.colab.kernel.invokeFunction('convertToInteractive',\n",
              "                                                    [key], {});\n",
              "        if (!dataTable) return;\n",
              "\n",
              "        const docLinkHtml = 'Like what you see? Visit the ' +\n",
              "          '<a target=\"_blank\" href=https://colab.research.google.com/notebooks/data_table.ipynb>data table notebook</a>'\n",
              "          + ' to learn more about interactive tables.';\n",
              "        element.innerHTML = '';\n",
              "        dataTable['output_type'] = 'display_data';\n",
              "        await google.colab.output.renderOutput(dataTable, element);\n",
              "        const docLink = document.createElement('div');\n",
              "        docLink.innerHTML = docLinkHtml;\n",
              "        element.appendChild(docLink);\n",
              "      }\n",
              "    </script>\n",
              "  </div>\n",
              "\n",
              "\n",
              "<div id=\"df-a1ff4742-7cb7-4c95-8957-95597c7626dc\">\n",
              "  <button class=\"colab-df-quickchart\" onclick=\"quickchart('df-a1ff4742-7cb7-4c95-8957-95597c7626dc')\"\n",
              "            title=\"Suggest charts\"\n",
              "            style=\"display:none;\">\n",
              "\n",
              "<svg xmlns=\"http://www.w3.org/2000/svg\" height=\"24px\"viewBox=\"0 0 24 24\"\n",
              "     width=\"24px\">\n",
              "    <g>\n",
              "        <path d=\"M19 3H5c-1.1 0-2 .9-2 2v14c0 1.1.9 2 2 2h14c1.1 0 2-.9 2-2V5c0-1.1-.9-2-2-2zM9 17H7v-7h2v7zm4 0h-2V7h2v10zm4 0h-2v-4h2v4z\"/>\n",
              "    </g>\n",
              "</svg>\n",
              "  </button>\n",
              "\n",
              "<style>\n",
              "  .colab-df-quickchart {\n",
              "      --bg-color: #E8F0FE;\n",
              "      --fill-color: #1967D2;\n",
              "      --hover-bg-color: #E2EBFA;\n",
              "      --hover-fill-color: #174EA6;\n",
              "      --disabled-fill-color: #AAA;\n",
              "      --disabled-bg-color: #DDD;\n",
              "  }\n",
              "\n",
              "  [theme=dark] .colab-df-quickchart {\n",
              "      --bg-color: #3B4455;\n",
              "      --fill-color: #D2E3FC;\n",
              "      --hover-bg-color: #434B5C;\n",
              "      --hover-fill-color: #FFFFFF;\n",
              "      --disabled-bg-color: #3B4455;\n",
              "      --disabled-fill-color: #666;\n",
              "  }\n",
              "\n",
              "  .colab-df-quickchart {\n",
              "    background-color: var(--bg-color);\n",
              "    border: none;\n",
              "    border-radius: 50%;\n",
              "    cursor: pointer;\n",
              "    display: none;\n",
              "    fill: var(--fill-color);\n",
              "    height: 32px;\n",
              "    padding: 0;\n",
              "    width: 32px;\n",
              "  }\n",
              "\n",
              "  .colab-df-quickchart:hover {\n",
              "    background-color: var(--hover-bg-color);\n",
              "    box-shadow: 0 1px 2px rgba(60, 64, 67, 0.3), 0 1px 3px 1px rgba(60, 64, 67, 0.15);\n",
              "    fill: var(--button-hover-fill-color);\n",
              "  }\n",
              "\n",
              "  .colab-df-quickchart-complete:disabled,\n",
              "  .colab-df-quickchart-complete:disabled:hover {\n",
              "    background-color: var(--disabled-bg-color);\n",
              "    fill: var(--disabled-fill-color);\n",
              "    box-shadow: none;\n",
              "  }\n",
              "\n",
              "  .colab-df-spinner {\n",
              "    border: 2px solid var(--fill-color);\n",
              "    border-color: transparent;\n",
              "    border-bottom-color: var(--fill-color);\n",
              "    animation:\n",
              "      spin 1s steps(1) infinite;\n",
              "  }\n",
              "\n",
              "  @keyframes spin {\n",
              "    0% {\n",
              "      border-color: transparent;\n",
              "      border-bottom-color: var(--fill-color);\n",
              "      border-left-color: var(--fill-color);\n",
              "    }\n",
              "    20% {\n",
              "      border-color: transparent;\n",
              "      border-left-color: var(--fill-color);\n",
              "      border-top-color: var(--fill-color);\n",
              "    }\n",
              "    30% {\n",
              "      border-color: transparent;\n",
              "      border-left-color: var(--fill-color);\n",
              "      border-top-color: var(--fill-color);\n",
              "      border-right-color: var(--fill-color);\n",
              "    }\n",
              "    40% {\n",
              "      border-color: transparent;\n",
              "      border-right-color: var(--fill-color);\n",
              "      border-top-color: var(--fill-color);\n",
              "    }\n",
              "    60% {\n",
              "      border-color: transparent;\n",
              "      border-right-color: var(--fill-color);\n",
              "    }\n",
              "    80% {\n",
              "      border-color: transparent;\n",
              "      border-right-color: var(--fill-color);\n",
              "      border-bottom-color: var(--fill-color);\n",
              "    }\n",
              "    90% {\n",
              "      border-color: transparent;\n",
              "      border-bottom-color: var(--fill-color);\n",
              "    }\n",
              "  }\n",
              "</style>\n",
              "\n",
              "  <script>\n",
              "    async function quickchart(key) {\n",
              "      const quickchartButtonEl =\n",
              "        document.querySelector('#' + key + ' button');\n",
              "      quickchartButtonEl.disabled = true;  // To prevent multiple clicks.\n",
              "      quickchartButtonEl.classList.add('colab-df-spinner');\n",
              "      try {\n",
              "        const charts = await google.colab.kernel.invokeFunction(\n",
              "            'suggestCharts', [key], {});\n",
              "      } catch (error) {\n",
              "        console.error('Error during call to suggestCharts:', error);\n",
              "      }\n",
              "      quickchartButtonEl.classList.remove('colab-df-spinner');\n",
              "      quickchartButtonEl.classList.add('colab-df-quickchart-complete');\n",
              "    }\n",
              "    (() => {\n",
              "      let quickchartButtonEl =\n",
              "        document.querySelector('#df-a1ff4742-7cb7-4c95-8957-95597c7626dc button');\n",
              "      quickchartButtonEl.style.display =\n",
              "        google.colab.kernel.accessAllowed ? 'block' : 'none';\n",
              "    })();\n",
              "  </script>\n",
              "</div>\n",
              "\n",
              "    </div>\n",
              "  </div>\n"
            ],
            "application/vnd.google.colaboratory.intrinsic+json": {
              "type": "dataframe",
              "variable_name": "attrition_df"
            }
          },
          "metadata": {},
          "execution_count": 3
        }
      ],
      "source": [
        "# Import our dependencies\n",
        "from sklearn.model_selection import train_test_split\n",
        "from sklearn.preprocessing import StandardScaler\n",
        "import pandas as pd\n",
        "import numpy as np\n",
        "from tensorflow.keras.models import Model\n",
        "from tensorflow.keras import layers\n",
        "\n",
        "#  Import and read the attrition data\n",
        "attrition_df = pd.read_csv('https://static.bc-edx.com/ai/ail-v-1-0/m19/lms/datasets/attrition.csv')\n",
        "attrition_df.head()"
      ]
    },
    {
      "cell_type": "code",
      "execution_count": 4,
      "metadata": {
        "colab": {
          "base_uri": "https://localhost:8080/"
        },
        "id": "g22aQSY4Gc3Q",
        "outputId": "a5f271ec-36ba-46fb-877f-ecf1d6f73af6"
      },
      "outputs": [
        {
          "output_type": "execute_result",
          "data": {
            "text/plain": [
              "Age                         43\n",
              "Attrition                    2\n",
              "BusinessTravel               3\n",
              "Department                   3\n",
              "DistanceFromHome            29\n",
              "Education                    5\n",
              "EducationField               6\n",
              "EnvironmentSatisfaction      4\n",
              "HourlyRate                  71\n",
              "JobInvolvement               4\n",
              "JobLevel                     5\n",
              "JobRole                      9\n",
              "JobSatisfaction              4\n",
              "MaritalStatus                3\n",
              "NumCompaniesWorked          10\n",
              "OverTime                     2\n",
              "PercentSalaryHike           15\n",
              "PerformanceRating            2\n",
              "RelationshipSatisfaction     4\n",
              "StockOptionLevel             4\n",
              "TotalWorkingYears           40\n",
              "TrainingTimesLastYear        7\n",
              "WorkLifeBalance              4\n",
              "YearsAtCompany              37\n",
              "YearsInCurrentRole          19\n",
              "YearsSinceLastPromotion     16\n",
              "YearsWithCurrManager        18\n",
              "dtype: int64"
            ]
          },
          "metadata": {},
          "execution_count": 4
        }
      ],
      "source": [
        "# Determine the number of unique values in each column.\n",
        "attrition_df.nunique()"
      ]
    },
    {
      "cell_type": "code",
      "execution_count": 5,
      "metadata": {
        "id": "50vMgBEnJbfM"
      },
      "outputs": [],
      "source": [
        "# Create y_df with the Attrition and Department columns\n",
        "y_df = attrition_df[['Attrition', 'Department']]\n"
      ]
    },
    {
      "cell_type": "code",
      "execution_count": 6,
      "metadata": {
        "colab": {
          "base_uri": "https://localhost:8080/"
        },
        "id": "Virka0zLGc3R",
        "outputId": "358aee43-9243-4977-e0ce-5ec4fa8157f0"
      },
      "outputs": [
        {
          "output_type": "execute_result",
          "data": {
            "text/plain": [
              "Age                         int64\n",
              "BusinessTravel             object\n",
              "DistanceFromHome            int64\n",
              "Education                   int64\n",
              "EnvironmentSatisfaction     int64\n",
              "HourlyRate                  int64\n",
              "JobInvolvement              int64\n",
              "JobLevel                    int64\n",
              "NumCompaniesWorked          int64\n",
              "OverTime                   object\n",
              "dtype: object"
            ]
          },
          "metadata": {},
          "execution_count": 6
        }
      ],
      "source": [
        "# Create a list of at least 10 column names to use as X data\n",
        "X_columns = [\n",
        "    'Age',\n",
        "    'BusinessTravel',\n",
        "    'DistanceFromHome',\n",
        "    'Education',\n",
        "    'EnvironmentSatisfaction',\n",
        "    'HourlyRate',\n",
        "    'JobInvolvement',\n",
        "    'JobLevel',\n",
        "    'NumCompaniesWorked',\n",
        "    'OverTime'\n",
        "]\n",
        "\n",
        "# Create X_df using your selected columns\n",
        "X_df = attrition_df[X_columns]\n",
        "\n",
        "# Show the data types for X_df\n",
        "X_df.dtypes\n"
      ]
    },
    {
      "cell_type": "code",
      "execution_count": 8,
      "metadata": {
        "id": "KaJfdOGUMHMR"
      },
      "outputs": [],
      "source": [
        "# Split the data into training and testing sets\n",
        "from sklearn.model_selection import train_test_split\n",
        "\n",
        "X_train, X_test, y_train, y_test = train_test_split(X_df, y_df, test_size=0.2, random_state=42)\n",
        "\n"
      ]
    },
    {
      "cell_type": "code",
      "execution_count": 9,
      "metadata": {
        "id": "NYubUJqiLCSp"
      },
      "outputs": [],
      "source": [
        "# Convert your X data to numeric data types however you see fit\n",
        "# Add new code cells as necessary\n",
        "\n",
        "from sklearn.preprocessing import OneHotEncoder, StandardScaler\n"
      ]
    },
    {
      "cell_type": "code",
      "source": [
        "# Check if any object-type data needs encoding\n",
        "object_columns = X_df.select_dtypes(include=['object']).columns\n",
        "print(\"Object columns:\", object_columns)\n",
        "\n",
        "# Apply OneHotEncoder to categorical columns\n",
        "X_encoder = OneHotEncoder(sparse=False, drop='first')  # Drop first avoids multicollinearity\n",
        "encoded_features = X_encoder.fit_transform(X_df[object_columns])\n",
        "\n",
        "# Create a DataFrame from the encoded features\n",
        "encoded_df = pd.DataFrame(encoded_features, columns=X_encoder.get_feature_names_out())\n",
        "\n",
        "# Combine with other numerical columns\n",
        "X_df_encoded = pd.concat([X_df.drop(object_columns, axis=1), encoded_df], axis=1)\n",
        "\n",
        "# Split into training and testing sets\n",
        "X_train, X_test, y_train, y_test = train_test_split(X_df_encoded, y_df, test_size=0.2, random_state=42)\n"
      ],
      "metadata": {
        "colab": {
          "base_uri": "https://localhost:8080/"
        },
        "id": "Tj3qnhBzc2xY",
        "outputId": "a0c9a733-3d22-49d4-c59e-f15f506ed7e2"
      },
      "execution_count": 15,
      "outputs": [
        {
          "output_type": "stream",
          "name": "stdout",
          "text": [
            "Object columns: Index(['BusinessTravel', 'OverTime'], dtype='object')\n"
          ]
        },
        {
          "output_type": "stream",
          "name": "stderr",
          "text": [
            "/usr/local/lib/python3.10/dist-packages/sklearn/preprocessing/_encoders.py:868: FutureWarning: `sparse` was renamed to `sparse_output` in version 1.2 and will be removed in 1.4. `sparse_output` is ignored unless you leave `sparse` to its default value.\n",
            "  warnings.warn(\n"
          ]
        }
      ]
    },
    {
      "cell_type": "code",
      "execution_count": 16,
      "metadata": {
        "id": "EWA-aIA5Gc3T"
      },
      "outputs": [],
      "source": [
        "# Create a StandardScaler\n",
        "scaler = StandardScaler()\n",
        "\n",
        "# Fit the StandardScaler to the training data\n",
        "X_train_scaled = scaler.fit_transform(X_train)\n",
        "\n",
        "# Scale the training and testing data\n",
        "X_test_scaled = scaler.transform(X_test)"
      ]
    },
    {
      "cell_type": "code",
      "execution_count": 17,
      "metadata": {
        "colab": {
          "base_uri": "https://localhost:8080/"
        },
        "id": "-z0Mky8vQSz4",
        "outputId": "79a57e0d-9452-4302-c709-6ad2e22ab197"
      },
      "outputs": [
        {
          "output_type": "stream",
          "name": "stderr",
          "text": [
            "/usr/local/lib/python3.10/dist-packages/sklearn/preprocessing/_encoders.py:868: FutureWarning: `sparse` was renamed to `sparse_output` in version 1.2 and will be removed in 1.4. `sparse_output` is ignored unless you leave `sparse` to its default value.\n",
            "  warnings.warn(\n"
          ]
        }
      ],
      "source": [
        "# Create a OneHotEncoder for the Department column\n",
        "department_encoder = OneHotEncoder(sparse=False)\n",
        "\n",
        "# Fit the encoder to the training data\n",
        "department_encoder.fit(y_train[['Department']])\n",
        "\n",
        "\n",
        "# Create two new variables by applying the encoder\n",
        "# to the training and testing data\n",
        "y_train_dept_encoded = department_encoder.transform(y_train[['Department']])\n",
        "y_test_dept_encoded = department_encoder.transform(y_test[['Department']])\n",
        "\n"
      ]
    },
    {
      "cell_type": "code",
      "execution_count": 18,
      "metadata": {
        "colab": {
          "base_uri": "https://localhost:8080/"
        },
        "id": "-G4DSpvFRrk4",
        "outputId": "7b853550-5ca4-4116-eaa2-b8cb6a0b0bca"
      },
      "outputs": [
        {
          "output_type": "stream",
          "name": "stderr",
          "text": [
            "/usr/local/lib/python3.10/dist-packages/sklearn/preprocessing/_encoders.py:868: FutureWarning: `sparse` was renamed to `sparse_output` in version 1.2 and will be removed in 1.4. `sparse_output` is ignored unless you leave `sparse` to its default value.\n",
            "  warnings.warn(\n"
          ]
        }
      ],
      "source": [
        "# Create a OneHotEncoder for the Attrition column\n",
        "attrition_encoder = OneHotEncoder(sparse=False)\n",
        "\n",
        "# Fit the encoder to the training data\n",
        "attrition_encoder.fit(y_train[['Attrition']])\n",
        "\n",
        "# Create two new variables by applying the encoder\n",
        "# to the training and testing data\n",
        "y_train_attrition_encoded = attrition_encoder.transform(y_train[['Attrition']])\n",
        "y_test_attrition_encoded = attrition_encoder.transform(y_test[['Attrition']])\n"
      ]
    },
    {
      "cell_type": "markdown",
      "metadata": {
        "id": "ykNmu_WWGc3T"
      },
      "source": [
        "## Create, Compile, and Train the Model"
      ]
    },
    {
      "cell_type": "code",
      "execution_count": 19,
      "metadata": {
        "id": "WUptZqmSGc3T"
      },
      "outputs": [],
      "source": [
        "# Find the number of columns in the X training data\n",
        "num_features = X_train_scaled.shape[1]\n",
        "\n",
        "\n",
        "# Create the input layer\n",
        "input_layer = layers.Input(shape=(num_features,))\n",
        "\n",
        "\n",
        "# Create at least two shared layers\n",
        "shared_layer1 = layers.Dense(16, activation='relu')(input_layer)\n",
        "shared_layer2 = layers.Dense(16, activation='relu')(shared_layer1)\n"
      ]
    },
    {
      "cell_type": "code",
      "execution_count": 20,
      "metadata": {
        "id": "JukjTm2yTEqd"
      },
      "outputs": [],
      "source": [
        "# Create a branch for Department\n",
        "# with a hidden layer and an output layer\n",
        "\n",
        "# Create the hidden layer\n",
        "dept_hidden_layer = layers.Dense(8, activation='relu')(shared_layer2)\n",
        "\n",
        "\n",
        "# Create the output layer\n",
        "dept_output_layer = layers.Dense(\n",
        "    y_train_dept_encoded.shape[1], activation='softmax'\n",
        ")(dept_hidden_layer)"
      ]
    },
    {
      "cell_type": "code",
      "execution_count": 21,
      "metadata": {
        "id": "9OqhUiOJUBkR"
      },
      "outputs": [],
      "source": [
        "# Create a branch for Attrition\n",
        "# with a hidden layer and an output layer\n",
        "\n",
        "# Create the hidden layer\n",
        "attrition_hidden_layer = layers.Dense(8, activation='relu')(shared_layer2)\n",
        "\n",
        "\n",
        "# Create the output layer\n",
        "attrition_output_layer = layers.Dense(\n",
        "    y_train_attrition_encoded.shape[1], activation='softmax'\n",
        ")(attrition_hidden_layer)\n"
      ]
    },
    {
      "cell_type": "code",
      "execution_count": 22,
      "metadata": {
        "colab": {
          "base_uri": "https://localhost:8080/"
        },
        "id": "twmuejdxGc3T",
        "outputId": "549e71fa-f58a-4f20-8d9e-0948b13123ca"
      },
      "outputs": [
        {
          "output_type": "stream",
          "name": "stdout",
          "text": [
            "Model: \"model\"\n",
            "__________________________________________________________________________________________________\n",
            " Layer (type)                Output Shape                 Param #   Connected to                  \n",
            "==================================================================================================\n",
            " input_1 (InputLayer)        [(None, 11)]                 0         []                            \n",
            "                                                                                                  \n",
            " dense (Dense)               (None, 16)                   192       ['input_1[0][0]']             \n",
            "                                                                                                  \n",
            " dense_1 (Dense)             (None, 16)                   272       ['dense[0][0]']               \n",
            "                                                                                                  \n",
            " dense_2 (Dense)             (None, 8)                    136       ['dense_1[0][0]']             \n",
            "                                                                                                  \n",
            " dense_4 (Dense)             (None, 8)                    136       ['dense_1[0][0]']             \n",
            "                                                                                                  \n",
            " dense_3 (Dense)             (None, 3)                    27        ['dense_2[0][0]']             \n",
            "                                                                                                  \n",
            " dense_5 (Dense)             (None, 2)                    18        ['dense_4[0][0]']             \n",
            "                                                                                                  \n",
            "==================================================================================================\n",
            "Total params: 781 (3.05 KB)\n",
            "Trainable params: 781 (3.05 KB)\n",
            "Non-trainable params: 0 (0.00 Byte)\n",
            "__________________________________________________________________________________________________\n"
          ]
        }
      ],
      "source": [
        "# Create the model\n",
        "model = Model(\n",
        "    inputs=input_layer,\n",
        "    outputs=[dept_output_layer, attrition_output_layer]\n",
        ")\n",
        "\n",
        "\n",
        "# Compile the model\n",
        "model.compile(\n",
        "    loss=['categorical_crossentropy', 'categorical_crossentropy'],\n",
        "    optimizer='adam',\n",
        "    metrics=['accuracy']\n",
        ")\n",
        "\n",
        "\n",
        "# Summarize the model\n",
        "model.summary()\n"
      ]
    },
    {
      "cell_type": "code",
      "execution_count": 23,
      "metadata": {
        "id": "c8oGy0dpGc3U",
        "colab": {
          "base_uri": "https://localhost:8080/"
        },
        "outputId": "fa4c57a5-1261-4208-8519-1807800b73d7"
      },
      "outputs": [
        {
          "output_type": "stream",
          "name": "stdout",
          "text": [
            "Epoch 1/20\n",
            "30/30 [==============================] - 7s 69ms/step - loss: 1.8566 - dense_3_loss: 0.9157 - dense_5_loss: 0.9409 - dense_3_accuracy: 0.6543 - dense_5_accuracy: 0.2894 - val_loss: 1.6502 - val_dense_3_loss: 0.9018 - val_dense_5_loss: 0.7484 - val_dense_3_accuracy: 0.6314 - val_dense_5_accuracy: 0.4619\n",
            "Epoch 2/20\n",
            "30/30 [==============================] - 0s 11ms/step - loss: 1.5312 - dense_3_loss: 0.8692 - dense_5_loss: 0.6621 - dense_3_accuracy: 0.6553 - dense_5_accuracy: 0.6489 - val_loss: 1.4639 - val_dense_3_loss: 0.8557 - val_dense_5_loss: 0.6082 - val_dense_3_accuracy: 0.6314 - val_dense_5_accuracy: 0.7203\n",
            "Epoch 3/20\n",
            "30/30 [==============================] - 0s 11ms/step - loss: 1.3608 - dense_3_loss: 0.8203 - dense_5_loss: 0.5406 - dense_3_accuracy: 0.6553 - dense_5_accuracy: 0.8043 - val_loss: 1.3571 - val_dense_3_loss: 0.8242 - val_dense_5_loss: 0.5329 - val_dense_3_accuracy: 0.6314 - val_dense_5_accuracy: 0.7966\n",
            "Epoch 4/20\n",
            "30/30 [==============================] - 0s 9ms/step - loss: 1.2560 - dense_3_loss: 0.7866 - dense_5_loss: 0.4694 - dense_3_accuracy: 0.6553 - dense_5_accuracy: 0.8426 - val_loss: 1.3048 - val_dense_3_loss: 0.8102 - val_dense_5_loss: 0.4945 - val_dense_3_accuracy: 0.6314 - val_dense_5_accuracy: 0.7966\n",
            "Epoch 5/20\n",
            "30/30 [==============================] - 0s 4ms/step - loss: 1.2097 - dense_3_loss: 0.7694 - dense_5_loss: 0.4402 - dense_3_accuracy: 0.6553 - dense_5_accuracy: 0.8404 - val_loss: 1.2840 - val_dense_3_loss: 0.8029 - val_dense_5_loss: 0.4811 - val_dense_3_accuracy: 0.6314 - val_dense_5_accuracy: 0.7966\n",
            "Epoch 6/20\n",
            "30/30 [==============================] - 0s 4ms/step - loss: 1.1871 - dense_3_loss: 0.7603 - dense_5_loss: 0.4269 - dense_3_accuracy: 0.6553 - dense_5_accuracy: 0.8404 - val_loss: 1.2730 - val_dense_3_loss: 0.8025 - val_dense_5_loss: 0.4705 - val_dense_3_accuracy: 0.6314 - val_dense_5_accuracy: 0.7966\n",
            "Epoch 7/20\n",
            "30/30 [==============================] - 0s 5ms/step - loss: 1.1748 - dense_3_loss: 0.7554 - dense_5_loss: 0.4194 - dense_3_accuracy: 0.6553 - dense_5_accuracy: 0.8404 - val_loss: 1.2657 - val_dense_3_loss: 0.8026 - val_dense_5_loss: 0.4631 - val_dense_3_accuracy: 0.6314 - val_dense_5_accuracy: 0.7966\n",
            "Epoch 8/20\n",
            "30/30 [==============================] - 0s 5ms/step - loss: 1.1637 - dense_3_loss: 0.7513 - dense_5_loss: 0.4124 - dense_3_accuracy: 0.6553 - dense_5_accuracy: 0.8404 - val_loss: 1.2611 - val_dense_3_loss: 0.8033 - val_dense_5_loss: 0.4578 - val_dense_3_accuracy: 0.6314 - val_dense_5_accuracy: 0.7966\n",
            "Epoch 9/20\n",
            "30/30 [==============================] - 0s 5ms/step - loss: 1.1544 - dense_3_loss: 0.7477 - dense_5_loss: 0.4068 - dense_3_accuracy: 0.6553 - dense_5_accuracy: 0.8404 - val_loss: 1.2560 - val_dense_3_loss: 0.8034 - val_dense_5_loss: 0.4526 - val_dense_3_accuracy: 0.6314 - val_dense_5_accuracy: 0.7966\n",
            "Epoch 10/20\n",
            "30/30 [==============================] - 0s 6ms/step - loss: 1.1452 - dense_3_loss: 0.7442 - dense_5_loss: 0.4010 - dense_3_accuracy: 0.6553 - dense_5_accuracy: 0.8404 - val_loss: 1.2504 - val_dense_3_loss: 0.8032 - val_dense_5_loss: 0.4472 - val_dense_3_accuracy: 0.6314 - val_dense_5_accuracy: 0.7966\n",
            "Epoch 11/20\n",
            "30/30 [==============================] - 0s 6ms/step - loss: 1.1361 - dense_3_loss: 0.7407 - dense_5_loss: 0.3954 - dense_3_accuracy: 0.6553 - dense_5_accuracy: 0.8415 - val_loss: 1.2426 - val_dense_3_loss: 0.8031 - val_dense_5_loss: 0.4395 - val_dense_3_accuracy: 0.6314 - val_dense_5_accuracy: 0.7966\n",
            "Epoch 12/20\n",
            "30/30 [==============================] - 0s 5ms/step - loss: 1.1278 - dense_3_loss: 0.7384 - dense_5_loss: 0.3894 - dense_3_accuracy: 0.6553 - dense_5_accuracy: 0.8415 - val_loss: 1.2404 - val_dense_3_loss: 0.8033 - val_dense_5_loss: 0.4371 - val_dense_3_accuracy: 0.6314 - val_dense_5_accuracy: 0.7966\n",
            "Epoch 13/20\n",
            "30/30 [==============================] - 0s 5ms/step - loss: 1.1195 - dense_3_loss: 0.7345 - dense_5_loss: 0.3849 - dense_3_accuracy: 0.6553 - dense_5_accuracy: 0.8415 - val_loss: 1.2350 - val_dense_3_loss: 0.8043 - val_dense_5_loss: 0.4307 - val_dense_3_accuracy: 0.6314 - val_dense_5_accuracy: 0.7966\n",
            "Epoch 14/20\n",
            "30/30 [==============================] - 0s 6ms/step - loss: 1.1095 - dense_3_loss: 0.7310 - dense_5_loss: 0.3785 - dense_3_accuracy: 0.6553 - dense_5_accuracy: 0.8415 - val_loss: 1.2319 - val_dense_3_loss: 0.8022 - val_dense_5_loss: 0.4297 - val_dense_3_accuracy: 0.6314 - val_dense_5_accuracy: 0.7966\n",
            "Epoch 15/20\n",
            "30/30 [==============================] - 0s 5ms/step - loss: 1.1028 - dense_3_loss: 0.7288 - dense_5_loss: 0.3740 - dense_3_accuracy: 0.6553 - dense_5_accuracy: 0.8436 - val_loss: 1.2311 - val_dense_3_loss: 0.8048 - val_dense_5_loss: 0.4263 - val_dense_3_accuracy: 0.6314 - val_dense_5_accuracy: 0.8051\n",
            "Epoch 16/20\n",
            "30/30 [==============================] - 0s 5ms/step - loss: 1.0969 - dense_3_loss: 0.7256 - dense_5_loss: 0.3713 - dense_3_accuracy: 0.6553 - dense_5_accuracy: 0.8436 - val_loss: 1.2228 - val_dense_3_loss: 0.7991 - val_dense_5_loss: 0.4236 - val_dense_3_accuracy: 0.6314 - val_dense_5_accuracy: 0.8051\n",
            "Epoch 17/20\n",
            "30/30 [==============================] - 0s 6ms/step - loss: 1.0919 - dense_3_loss: 0.7234 - dense_5_loss: 0.3685 - dense_3_accuracy: 0.6553 - dense_5_accuracy: 0.8511 - val_loss: 1.2225 - val_dense_3_loss: 0.8010 - val_dense_5_loss: 0.4215 - val_dense_3_accuracy: 0.6314 - val_dense_5_accuracy: 0.8136\n",
            "Epoch 18/20\n",
            "30/30 [==============================] - 0s 5ms/step - loss: 1.0845 - dense_3_loss: 0.7208 - dense_5_loss: 0.3637 - dense_3_accuracy: 0.6553 - dense_5_accuracy: 0.8521 - val_loss: 1.2262 - val_dense_3_loss: 0.8015 - val_dense_5_loss: 0.4247 - val_dense_3_accuracy: 0.6314 - val_dense_5_accuracy: 0.8051\n",
            "Epoch 19/20\n",
            "30/30 [==============================] - 0s 5ms/step - loss: 1.0791 - dense_3_loss: 0.7176 - dense_5_loss: 0.3615 - dense_3_accuracy: 0.6553 - dense_5_accuracy: 0.8574 - val_loss: 1.2219 - val_dense_3_loss: 0.7990 - val_dense_5_loss: 0.4229 - val_dense_3_accuracy: 0.6314 - val_dense_5_accuracy: 0.8093\n",
            "Epoch 20/20\n",
            "30/30 [==============================] - 0s 5ms/step - loss: 1.0743 - dense_3_loss: 0.7159 - dense_5_loss: 0.3584 - dense_3_accuracy: 0.6553 - dense_5_accuracy: 0.8606 - val_loss: 1.2216 - val_dense_3_loss: 0.8003 - val_dense_5_loss: 0.4213 - val_dense_3_accuracy: 0.6314 - val_dense_5_accuracy: 0.8136\n"
          ]
        },
        {
          "output_type": "execute_result",
          "data": {
            "text/plain": [
              "<keras.src.callbacks.History at 0x7bde556e6740>"
            ]
          },
          "metadata": {},
          "execution_count": 23
        }
      ],
      "source": [
        "# Train the model\n",
        "model.fit(\n",
        "    X_train_scaled,\n",
        "    [y_train_dept_encoded, y_train_attrition_encoded],\n",
        "    epochs=20,\n",
        "    validation_split=0.2,\n",
        "    batch_size=32\n",
        ")\n",
        "\n"
      ]
    },
    {
      "cell_type": "code",
      "execution_count": 24,
      "metadata": {
        "id": "VsMoaQlgGc3U",
        "colab": {
          "base_uri": "https://localhost:8080/"
        },
        "outputId": "58e7d239-50d6-4dad-b3d5-5b31ce10b49c"
      },
      "outputs": [
        {
          "output_type": "stream",
          "name": "stdout",
          "text": [
            "10/10 [==============================] - 0s 6ms/step - loss: 1.1470 - dense_3_loss: 0.7879 - dense_5_loss: 0.3592 - dense_3_accuracy: 0.6667 - dense_5_accuracy: 0.8707\n"
          ]
        }
      ],
      "source": [
        "# Evaluate the model with the testing data\n",
        "results = model.evaluate(\n",
        "    X_test_scaled,\n",
        "    [y_test_dept_encoded, y_test_attrition_encoded]\n",
        ")\n"
      ]
    },
    {
      "cell_type": "code",
      "execution_count": 25,
      "metadata": {
        "id": "ZlCtlHi0Vt54",
        "colab": {
          "base_uri": "https://localhost:8080/"
        },
        "outputId": "b85466ab-7dd1-41c0-bb96-b4b1397202b9"
      },
      "outputs": [
        {
          "output_type": "stream",
          "name": "stdout",
          "text": [
            "Department accuracy: 0.6666666865348816\n",
            "Attrition accuracy: 0.8707482814788818\n"
          ]
        }
      ],
      "source": [
        "# Print the accuracy for both department and attrition\n",
        "print(\"Department accuracy:\", results[3])\n",
        "print(\"Attrition accuracy:\", results[4])\n"
      ]
    },
    {
      "cell_type": "markdown",
      "metadata": {
        "id": "eGSyfsZfWOQM"
      },
      "source": [
        "# Summary\n",
        "\n",
        "In the provided space below, briefly answer the following questions.\n",
        "\n",
        "1. Is accuracy the best metric to use on this data? Why or why not?\n",
        "\n",
        "2. What activation functions did you choose for your output layers, and why?\n",
        "\n",
        "3. Can you name a few ways that this model might be improved?"
      ]
    },
    {
      "cell_type": "markdown",
      "metadata": {
        "id": "pi9SLpFnWvbF"
      },
      "source": [
        "YOUR ANSWERS HERE\n",
        "\n",
        "1. Accuracy can be useful, but it doesn't take into account for class imbalance or incorrect predictions that might impact certain classes more. Some other metrics I could use are: precision, recall, F1-score, or confusion matrices to gain a deeper understanding of the model's performance.\n",
        "\n",
        "2. I used softmax for both outputs because both outputs represent categorical data. The softmax function gives probabilities for each class, allowing for a straightforward interpretation of the model's predictions.\n",
        "\n",
        "3. Some ways we can improve this model is:\n",
        "  - Regularization: Applying dropout or L2 regularization to reduce overfitting.\n",
        "  - Data Augmentation: Enhancing the dataset with additional synthetic data.\n",
        "  - Feature Engineering: Creating new features or combining existing ones to improve the model's understanding.\n",
        "  - Hyperparameter Tuning: Adjusting parameters like learning rate, batch size, or layer structures for optimal performance.\n",
        "  - Cross-Validation: Using k-fold cross-validation to better estimate model generalization.\n",
        "  - Balancing Classes: If there's class imbalance, using techniques like SMOTE or undersampling to address this."
      ]
    }
  ],
  "metadata": {
    "colab": {
      "provenance": [],
      "include_colab_link": true
    },
    "kernelspec": {
      "display_name": "Python 3",
      "language": "python",
      "name": "python3"
    },
    "language_info": {
      "codemirror_mode": {
        "name": "ipython",
        "version": 3
      },
      "file_extension": ".py",
      "mimetype": "text/x-python",
      "name": "python",
      "nbconvert_exporter": "python",
      "pygments_lexer": "ipython3",
      "version": "3.9.18"
    },
    "vscode": {
      "interpreter": {
        "hash": "31f2aee4e71d21fbe5cf8b01ff0e069b9275f58929596ceb00d14d90e3e16cd6"
      }
    }
  },
  "nbformat": 4,
  "nbformat_minor": 0
}